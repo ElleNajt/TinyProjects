{
 "cells": [
  {
   "cell_type": "code",
   "execution_count": 130,
   "metadata": {},
   "outputs": [],
   "source": [
    "import numpy as np\n",
    "from scipy.stats import norm\n",
    "import copy"
   ]
  },
  {
   "cell_type": "code",
   "execution_count": 154,
   "metadata": {},
   "outputs": [
    {
     "data": {
      "text/plain": [
       "0.90225"
      ]
     },
     "execution_count": 154,
     "metadata": {},
     "output_type": "execute_result"
    }
   ],
   "source": [
    "def create_data():\n",
    "\n",
    "\n",
    "    ##Creating the data -- following the notation in Efron\n",
    "\n",
    "    genes = 100000\n",
    "    pi_0 = .90\n",
    "\n",
    "    #Assuming that the z-scores in the null arm are $N(0,1)$ and $N(arm[1],1)$ in non null case.\n",
    "    arm = {}\n",
    "    arm[0] = 0\n",
    "    arm[1] = -1\n",
    "    #Confused about: how to do this for two sided alternatives? I.e. something like a t-statistic\n",
    "\n",
    "    null_or_alt = np.random.binomial(1,pi_0, genes)\n",
    "    z_values = [ np.random.normal(arm[x]) for x in null_or_alt]\n",
    "    p_values = [ norm.cdf(z) for z in z_values]\n",
    "    #np.mean(null_or_alt)   #This is the proportion of genes for which you *should* reject the null\n",
    "    return p_values"
   ]
  },
  {
   "cell_type": "code",
   "execution_count": 155,
   "metadata": {},
   "outputs": [],
   "source": [
    "def Benjamini_Hochberg(p_values, q):\n",
    "    #\n",
    "    N = len(p_values)\n",
    "    sorted_p_values = copy.deepcopy(p_values)\n",
    "    sorted_p_values = sorted(sorted_p_values)\n",
    "    i_max = -1\n",
    "    threshold_p_value = 0\n",
    "    for j in range(N):\n",
    "        if sorted_p_values[j] <= q*(j+1)/N:\n",
    "            i_max = j\n",
    "            threshold_p_value = sorted_p_values[i_max]\n",
    "    print(i_max)\n",
    "    #We've obtained i_max many genes, and we have controled the expected proportion of them for which we have incorrectly rejected the null\n",
    "    results = []\n",
    "    for x in p_values:\n",
    "        if x > threshold_p_value:\n",
    "            results.append(0)\n",
    "        else:\n",
    "            results.append(1)\n",
    "    return results\n",
    "    "
   ]
  },
  {
   "cell_type": "code",
   "execution_count": 156,
   "metadata": {},
   "outputs": [],
   "source": [
    "def false_positive(results, null_or_alt):\n",
    "    '''\n",
    "    null or alt contains the true null or alt values.\n",
    "    results contains the output of the BH procedure\n",
    "    '''\n",
    "    N = len(null_or_alt)\n",
    "    number_rejected = 0\n",
    "    num_false_discoveries = 0\n",
    "    for i in range(N):\n",
    "        if results[i] == 1:\n",
    "            number_rejected += 1\n",
    "            if null_or_alt[i] == 0:\n",
    "                num_false_discoveries += 1\n",
    "    return (num_false_discoveries, number_rejected, num_false_discoveries / number_rejected)"
   ]
  },
  {
   "cell_type": "code",
   "execution_count": 157,
   "metadata": {},
   "outputs": [
    {
     "name": "stdout",
     "output_type": "stream",
     "text": [
      "5881\n",
      "(52, 5882, 0.00884053043182591)\n"
     ]
    }
   ],
   "source": [
    "q = .1\n",
    "results = Benjamini_Hochberg(p_values, q)\n",
    "print(false_positive(results, null_or_alt))"
   ]
  },
  {
   "cell_type": "code",
   "execution_count": null,
   "metadata": {
    "scrolled": false
   },
   "outputs": [],
   "source": [
    "#We know that the expected false discovery proportion is less than q "
   ]
  },
  {
   "cell_type": "code",
   "execution_count": null,
   "metadata": {},
   "outputs": [],
   "source": []
  },
  {
   "cell_type": "code",
   "execution_count": null,
   "metadata": {},
   "outputs": [],
   "source": []
  },
  {
   "cell_type": "code",
   "execution_count": null,
   "metadata": {},
   "outputs": [],
   "source": []
  }
 ],
 "metadata": {
  "kernelspec": {
   "display_name": "Python 3",
   "language": "python",
   "name": "python3"
  },
  "language_info": {
   "codemirror_mode": {
    "name": "ipython",
    "version": 3
   },
   "file_extension": ".py",
   "mimetype": "text/x-python",
   "name": "python",
   "nbconvert_exporter": "python",
   "pygments_lexer": "ipython3",
   "version": "3.7.4"
  }
 },
 "nbformat": 4,
 "nbformat_minor": 4
}
